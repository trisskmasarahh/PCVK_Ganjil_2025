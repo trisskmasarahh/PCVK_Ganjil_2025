{
  "nbformat": 4,
  "nbformat_minor": 0,
  "metadata": {
    "colab": {
      "provenance": [],
      "authorship_tag": "ABX9TyNoeXycUxj/g+vKltH+Uo3C",
      "include_colab_link": true
    },
    "kernelspec": {
      "name": "python3",
      "display_name": "Python 3"
    },
    "language_info": {
      "name": "python"
    }
  },
  "cells": [
    {
      "cell_type": "markdown",
      "metadata": {
        "id": "view-in-github",
        "colab_type": "text"
      },
      "source": [
        "<a href=\"https://colab.research.google.com/github/trisskmasarahh/PCVK_Ganjil_2025/blob/main/Week1.ipynb\" target=\"_parent\"><img src=\"https://colab.research.google.com/assets/colab-badge.svg\" alt=\"Open In Colab\"/></a>"
      ]
    },
    {
      "cell_type": "code",
      "execution_count": null,
      "metadata": {
        "id": "jInLm7SOhhC0"
      },
      "outputs": [],
      "source": []
    },
    {
      "cell_type": "markdown",
      "source": [
        "# Langkah (Step) 1:\n"
      ],
      "metadata": {
        "id": "CZPnJNKRjI5z"
      }
    },
    {
      "cell_type": "markdown",
      "source": [
        "Pada code awal, beberapa library yang akan digunakan adalah: numpy, pandas,cv2,skimage,PIL,matplotlib"
      ],
      "metadata": {
        "id": "A1VTBgGzjPsk"
      }
    },
    {
      "cell_type": "code",
      "source": [
        "import numpy as np\n",
        "import pandas as pd\n",
        "import cv2 as cv\n",
        "from google.colab.patches import cv2_imshow # for image display\n",
        "from skimage import io\n",
        "from skimage import transform\n",
        "from PIL import Image\n",
        "import matplotlib.pylab as plt"
      ],
      "metadata": {
        "id": "K_KH1ZEAji32"
      },
      "execution_count": 1,
      "outputs": []
    },
    {
      "cell_type": "markdown",
      "source": [
        "# Langkah 2 untuk membaca dan menampilkan image"
      ],
      "metadata": {
        "id": "ol65Njr4kK8e"
      }
    },
    {
      "cell_type": "markdown",
      "source": [
        "Baca image dari URLS - Read Image From URLs"
      ],
      "metadata": {
        "id": "FBjX2pEWkSur"
      }
    },
    {
      "cell_type": "code",
      "source": [
        "# Membuat list untuk menyimpan url dari beberapa image\n",
        "urls = [\n",
        "    \"https://iiif.lib.ncsu.edu/iiif/0052574/full/800,/0/default.jpg\",\n",
        "    \"https://iiif.lib.ncsu.edu/iiif/0016007/full/800,/0/default.jpg\",\n",
        "    \"https://placekitten.com/800/571\"\n",
        "]\n",
        "\n",
        "# baca dan tampilkan image\n",
        "# loop pada tiap url image, beberapa image dapat disimpan pada list\n",
        "for url in urls:\n",
        "    image = io.imread(url)                                #read image\n",
        "    image = cv.resize(image, (0,0), fx=0.5, fy=0.5)        #resize image to half size\n",
        "    image_2 = cv.cvtColor(image, cv.COLOR_BGR2RGB)         #convert color to RGB\n",
        "    final_frame = cv.hconcat((image, image_2))             #concatenate image\n",
        "    cv2_imshow(final_frame)                               #show image\n",
        "    print('\\n')"
      ],
      "metadata": {
        "id": "ypLqsLnrknIf"
      },
      "execution_count": null,
      "outputs": []
    },
    {
      "cell_type": "markdown",
      "source": [
        "# Langkah 3 pada praktikum ini adalah melihat ukuran file image, dengan cara sebagai berikut:"
      ],
      "metadata": {
        "id": "eDmCxR5xkxEQ"
      }
    },
    {
      "cell_type": "code",
      "source": [
        "tinggi = image_2.shape[0]\n",
        "lebar = image_2.shape[1]\n",
        "print(\"resolusi image: tinggi x lebar =\",tinggi,\"x\",lebar)\n",
        "cv2_imshow(image_2)"
      ],
      "metadata": {
        "id": "-dfh5eImk6gq"
      },
      "execution_count": null,
      "outputs": []
    },
    {
      "cell_type": "markdown",
      "source": [
        "# Langkah (Step) 4"
      ],
      "metadata": {
        "id": "yRQWXv9ElFg5"
      }
    },
    {
      "cell_type": "markdown",
      "source": [
        "mengakses pixel dengan memberi garis diagonal menyilang"
      ],
      "metadata": {
        "id": "Mntrr-EmlPVJ"
      }
    },
    {
      "cell_type": "code",
      "source": [
        "image_2 = cv.cvtColor(image, cv.COLOR_BGR2RGB)\n",
        "image_3 = cv.cvtColor(image, cv.COLOR_BGR2RGB)\n",
        "\n",
        "#membuat garis horizontal ditengah image\n",
        "for y in range (lebar):\n",
        "    image_3[int((tinggi)/2),y] = [255,255,255]\n",
        "\n",
        "final_frame = cv.hconcat((image_2, image_3))\n",
        "cv2_imshow(final_frame)"
      ],
      "metadata": {
        "id": "QMHVpMoilWsm"
      },
      "execution_count": null,
      "outputs": []
    }
  ]
}